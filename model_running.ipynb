{
 "cells": [
  {
   "cell_type": "code",
   "execution_count": null,
   "metadata": {
    "vscode": {
     "languageId": "plaintext"
    }
   },
   "outputs": [],
   "source": [
    "API_KEY = \"ENTER-YOUR-API-KEY\""
   ]
  },
  {
   "cell_type": "code",
   "execution_count": null,
   "metadata": {
    "vscode": {
     "languageId": "plaintext"
    }
   },
   "outputs": [],
   "source": [
    "import ast\n",
    "import json\n",
    "from blablador import Models, Completions, ChatCompletions, TokenCount\n",
    "from config import API_KEY, assistant, user, system\n",
    "\n",
    "models = Models(api_key=API_KEY).get_model_ids()\n",
    "for i in models:\n",
    "    print(i)"
   ]
  },
  {
   "cell_type": "code",
   "execution_count": null,
   "metadata": {
    "vscode": {
     "languageId": "plaintext"
    }
   },
   "outputs": [],
   "source": [
    "import json\n",
    "\n",
    "f = open('paper_examples/en.jsonl')\n",
    "data = json.load(f)\n",
    "f.close()\n",
    "print('Number of questions: ' + str(len(data)))"
   ]
  },
  {
   "cell_type": "code",
   "execution_count": null,
   "metadata": {
    "vscode": {
     "languageId": "plaintext"
    }
   },
   "outputs": [],
   "source": [
    "from utils import *\n",
    "\n",
    "ground_truth_llama, responses_llama = run_model_promting(path_to_questions = 'paper_examples/en.jsonl', path_to_answers = 'responses/responses_one_letter_llama_0_3.txt', model_id = 6,start_range = 0, end_range = 3, N_samples = 20)"
   ]
  }
 ],
 "metadata": {
  "language_info": {
   "name": "python"
  }
 },
 "nbformat": 4,
 "nbformat_minor": 2
}
